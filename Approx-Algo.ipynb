{
 "cells": [
  {
   "cell_type": "markdown",
   "metadata": {},
   "source": [
    "Cite: https://dl.acm.org/doi/pdf/10.1145/321941.321951\n",
    "\n",
    "a schedule S for m processors with a set of n jobs into m disjoint ordered sets of jobs. \n",
    "The objective is to minimize the makespan, the time at which the last job is completed. The problem is NP-complete.\n",
    "\n",
    "Finish time for processor i for any schedule $S = {R_1, R_2, ..., R_m}$ is $F_i(S) = \\sum_{j \\in R_i} p_j$\n",
    "\n"
   ]
  },
  {
   "cell_type": "code",
   "execution_count": null,
   "metadata": {},
   "outputs": [],
   "source": []
  }
 ],
 "metadata": {
  "language_info": {
   "name": "python"
  }
 },
 "nbformat": 4,
 "nbformat_minor": 2
}
